{
  "nbformat": 4,
  "nbformat_minor": 0,
  "metadata": {
    "colab": {
      "provenance": [],
      "gpuType": "T4",
      "cell_execution_strategy": "setup",
      "authorship_tag": "ABX9TyPsEGUxtouXFbOxiX/iYorS",
      "include_colab_link": true
    },
    "kernelspec": {
      "name": "python3",
      "display_name": "Python 3"
    },
    "language_info": {
      "name": "python"
    },
    "accelerator": "GPU"
  },
  "cells": [
    {
      "cell_type": "markdown",
      "metadata": {
        "id": "view-in-github",
        "colab_type": "text"
      },
      "source": [
        "<a href=\"https://colab.research.google.com/github/ben854719/AI-Gateway-Evolution-Moving-from-Requests-to-Results-via-Intent/blob/main/Frontend_and_Intent_Preview_UI.ipynb\" target=\"_parent\"><img src=\"https://colab.research.google.com/assets/colab-badge.svg\" alt=\"Open In Colab\"/></a>"
      ]
    },
    {
      "cell_type": "code",
      "source": [
        "import gradio as gr\n",
        "import random\n",
        "import re\n",
        "\n",
        "# Simulated Meeting Reminder Parser\n",
        "def meeting_reminder_parser(text):\n",
        "    intent = \"MeetingReminder\" if \"meeting\" in text.lower() else \"UnknownIntent\"\n",
        "    confidence = round(random.uniform(0.7, 0.98), 2)\n",
        "\n",
        "    # Simple entity extraction\n",
        "    entities = {}\n",
        "    if \"tomorrow\" in text.lower():\n",
        "        entities[\"date\"] = \"Tomorrow\"\n",
        "    if \"next week\" in text.lower():\n",
        "        entities[\"date\"] = \"Next Week\"\n",
        "    time_match = re.search(r\"\\b\\d{1,2}(:\\d{2})?\\s?(am|pm)?\\b\", text.lower())\n",
        "    if time_match:\n",
        "        entities[\"time\"] = time_match.group()\n",
        "    name_match = re.findall(r\"\\b[A-Z][a-z]+(?:\\s[A-Z][a-z]+)?\\b\", text)\n",
        "    if name_match:\n",
        "        entities[\"participants\"] = \", \".join(name_match)\n",
        "\n",
        "    raw_output = {\n",
        "        \"input\": text,\n",
        "        \"intent\": intent,\n",
        "        \"confidence\": confidence,\n",
        "        \"entities\": entities\n",
        "    }\n",
        "\n",
        "    formatted = f\"\"\"\n",
        "    ### Intent: `{intent}`\n",
        "    **Confidence:** {confidence}\n",
        "    **Entities:**\n",
        "    {', '.join([f\"{k}: {v}\" for k, v in entities.items()]) or \"None\"}\n",
        "    \"\"\"\n",
        "    return formatted, str(raw_output)\n",
        "\n",
        "# Gradio UI\n",
        "with gr.Blocks() as demo:\n",
        "    gr.Markdown(\"# Meeting Reminder Intent Parser\")\n",
        "    gr.Markdown(\"Type a message like 'Schedule a meeting with Ben tomorrow at 3pm'\")\n",
        "\n",
        "    with gr.Row():\n",
        "        input_text = gr.Textbox(label=\"Your Message\", placeholder=\"Meeting with John next week at 10am\")\n",
        "        submit_btn = gr.Button(\"Analyze\")\n",
        "\n",
        "    gr.Markdown(\"---\")\n",
        "\n",
        "    with gr.Row():\n",
        "        parsed_output = gr.Markdown()\n",
        "        raw_output = gr.Textbox(label=\"Raw Output\", lines=10)\n",
        "\n",
        "    submit_btn.click(fn=meeting_reminder_parser, inputs=input_text, outputs=[parsed_output, raw_output])\n",
        "\n",
        "demo.launch()"
      ],
      "metadata": {
        "colab": {
          "base_uri": "https://localhost:8080/",
          "height": 645
        },
        "id": "cFYeK7RK69OZ",
        "outputId": "bdcaaa6a-51b3-483f-b700-96690c914e28"
      },
      "execution_count": 2,
      "outputs": [
        {
          "output_type": "stream",
          "name": "stdout",
          "text": [
            "It looks like you are running Gradio on a hosted Jupyter notebook, which requires `share=True`. Automatically setting `share=True` (you can turn this off by setting `share=False` in `launch()` explicitly).\n",
            "\n",
            "Colab notebook detected. To show errors in colab notebook, set debug=True in launch()\n",
            "* Running on public URL: https://2624df4bc078c9b0b1.gradio.live\n",
            "\n",
            "This share link expires in 1 week. For free permanent hosting and GPU upgrades, run `gradio deploy` from the terminal in the working directory to deploy to Hugging Face Spaces (https://huggingface.co/spaces)\n"
          ]
        },
        {
          "output_type": "display_data",
          "data": {
            "text/plain": [
              "<IPython.core.display.HTML object>"
            ],
            "text/html": [
              "<div><iframe src=\"https://2624df4bc078c9b0b1.gradio.live\" width=\"100%\" height=\"500\" allow=\"autoplay; camera; microphone; clipboard-read; clipboard-write;\" frameborder=\"0\" allowfullscreen></iframe></div>"
            ]
          },
          "metadata": {}
        },
        {
          "output_type": "execute_result",
          "data": {
            "text/plain": []
          },
          "metadata": {},
          "execution_count": 2
        }
      ]
    }
  ]
}